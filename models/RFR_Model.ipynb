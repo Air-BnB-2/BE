{
  "nbformat": 4,
  "nbformat_minor": 0,
  "metadata": {
    "colab": {
      "name": "RFR_Model.ipynb",
      "provenance": [],
      "collapsed_sections": []
    },
    "kernelspec": {
      "name": "python3",
      "display_name": "Python 3"
    }
  },
  "cells": [
    {
      "cell_type": "code",
      "metadata": {
        "id": "df_cJUNza1bR",
        "colab_type": "code",
        "colab": {
          "base_uri": "https://localhost:8080/",
          "height": 289
        },
        "outputId": "3091099d-3907-48af-b8ae-ac339d702a64"
      },
      "source": [
        "!pip install category_encoders"
      ],
      "execution_count": 3,
      "outputs": [
        {
          "output_type": "stream",
          "text": [
            "Collecting category_encoders\n",
            "\u001b[?25l  Downloading https://files.pythonhosted.org/packages/44/57/fcef41c248701ee62e8325026b90c432adea35555cbc870aff9cfba23727/category_encoders-2.2.2-py2.py3-none-any.whl (80kB)\n",
            "\r\u001b[K     |████                            | 10kB 18.5MB/s eta 0:00:01\r\u001b[K     |████████▏                       | 20kB 1.7MB/s eta 0:00:01\r\u001b[K     |████████████▏                   | 30kB 2.2MB/s eta 0:00:01\r\u001b[K     |████████████████▎               | 40kB 2.5MB/s eta 0:00:01\r\u001b[K     |████████████████████▎           | 51kB 2.0MB/s eta 0:00:01\r\u001b[K     |████████████████████████▍       | 61kB 2.2MB/s eta 0:00:01\r\u001b[K     |████████████████████████████▍   | 71kB 2.5MB/s eta 0:00:01\r\u001b[K     |████████████████████████████████| 81kB 2.2MB/s \n",
            "\u001b[?25hRequirement already satisfied: pandas>=0.21.1 in /usr/local/lib/python3.6/dist-packages (from category_encoders) (1.0.5)\n",
            "Requirement already satisfied: scikit-learn>=0.20.0 in /usr/local/lib/python3.6/dist-packages (from category_encoders) (0.22.2.post1)\n",
            "Requirement already satisfied: scipy>=1.0.0 in /usr/local/lib/python3.6/dist-packages (from category_encoders) (1.4.1)\n",
            "Requirement already satisfied: patsy>=0.5.1 in /usr/local/lib/python3.6/dist-packages (from category_encoders) (0.5.1)\n",
            "Requirement already satisfied: statsmodels>=0.9.0 in /usr/local/lib/python3.6/dist-packages (from category_encoders) (0.10.2)\n",
            "Requirement already satisfied: numpy>=1.14.0 in /usr/local/lib/python3.6/dist-packages (from category_encoders) (1.18.5)\n",
            "Requirement already satisfied: pytz>=2017.2 in /usr/local/lib/python3.6/dist-packages (from pandas>=0.21.1->category_encoders) (2018.9)\n",
            "Requirement already satisfied: python-dateutil>=2.6.1 in /usr/local/lib/python3.6/dist-packages (from pandas>=0.21.1->category_encoders) (2.8.1)\n",
            "Requirement already satisfied: joblib>=0.11 in /usr/local/lib/python3.6/dist-packages (from scikit-learn>=0.20.0->category_encoders) (0.15.1)\n",
            "Requirement already satisfied: six in /usr/local/lib/python3.6/dist-packages (from patsy>=0.5.1->category_encoders) (1.12.0)\n",
            "Installing collected packages: category-encoders\n",
            "Successfully installed category-encoders-2.2.2\n"
          ],
          "name": "stdout"
        }
      ]
    },
    {
      "cell_type": "code",
      "metadata": {
        "id": "ne6dHiyUZp1l",
        "colab_type": "code",
        "colab": {}
      },
      "source": [
        "import pandas as pd\n",
        "import numpy as np\n",
        "import category_encoders as ce\n",
        "import bz2\n",
        "import _pickle as cPickle\n",
        "\n",
        "from sklearn.model_selection import train_test_split\n",
        "from sklearn.metrics import mean_squared_error\n",
        "from sklearn.ensemble import RandomForestRegressor\n",
        "from sklearn.pipeline import make_pipeline\n",
        "from sklearn.model_selection import cross_val_score\n",
        "from sklearn import metrics\n"
      ],
      "execution_count": 15,
      "outputs": []
    },
    {
      "cell_type": "code",
      "metadata": {
        "id": "VXU3j3L2m3w6",
        "colab_type": "code",
        "colab": {}
      },
      "source": [
        "df = pd.read_csv(\"/content/drive/My Drive/train.csv\")"
      ],
      "execution_count": 16,
      "outputs": []
    },
    {
      "cell_type": "code",
      "metadata": {
        "id": "R5nYCaDk0pbR",
        "colab_type": "code",
        "colab": {}
      },
      "source": [
        "def extract_zipcode(X):\n",
        "  \"\"\"Extracts first 5 characters from string\"\"\"\n",
        "  return X[:5] "
      ],
      "execution_count": 17,
      "outputs": []
    },
    {
      "cell_type": "code",
      "metadata": {
        "id": "x2o6Kb12Gp5u",
        "colab_type": "code",
        "colab": {}
      },
      "source": [
        "def enumerate_amenities(X):\n",
        "  \"\"\"Returns sum of number of amenities\"\"\"\n",
        "  return len(X[\"amenities\"].split(\",\"))"
      ],
      "execution_count": 18,
      "outputs": []
    },
    {
      "cell_type": "code",
      "metadata": {
        "id": "ciVA8zikF2bM",
        "colab_type": "code",
        "colab": {}
      },
      "source": [
        "def wrangle(X):\n",
        "  \"\"\"\n",
        "  Wrangles and cleans dataframe\n",
        "  \"\"\"\n",
        "\n",
        "  # Prevent Setting With Copy warning\n",
        "  X = X.copy()\n",
        "\n",
        "  \"\"\"\n",
        "  Converting X[\"amenities\"] to countable list, replacing set of amenities\n",
        "  with count of amenities\n",
        "  \"\"\"\n",
        "  X[\"amenities\"] = X.apply(enumerate_amenities, axis=1)\n",
        "\n",
        "  # Filtering dataframe\n",
        "  X = X.filter([\"log_price\", \"property_type\", \"amenities\", \"room_type\",  \n",
        "                \"accommodates\", \"bathrooms\", \"cancellation_policy\", \n",
        "                \"cleaning_fee\", \"instant_bookable\", \"zipcode\", \"bedrooms\", \n",
        "                \"beds\"], axis=1)\n",
        "  \n",
        "  \"\"\"\n",
        "  Converting property_type to include manageable number of options for\n",
        "  ordinal encoding\n",
        "  \"\"\"\n",
        "\n",
        "  X[\"property_type\"] = X[\"property_type\"].replace(np.nan, \"Other\")\n",
        "  apartment = X[\"property_type\"].str.contains(\"Apartment\")\n",
        "  house = X[\"property_type\"].str.contains(\"House\")\n",
        "  loft = X[\"property_type\"].str.contains(\"Loft\")\n",
        "  hostel = X[\"property_type\"].str.contains(\"Hostel\")\n",
        "  condo = X[\"property_type\"].str.contains(\"Condominium\")\n",
        "  townhouse = X[\"property_type\"].str.contains(\"Townhouse\")\n",
        "  earth_house = X[\"property_type\"].str.contains(\"Earth House\")\n",
        "  othr_conditional = ~apartment & ~house & ~loft & ~hostel & ~condo & ~townhouse\n",
        "  X.loc[earth_house, \"property_type\"] = \"Other\"\n",
        "  X.loc[othr_conditional, \"property_type\"] = \"Other\"\n",
        "\n",
        "  # Cleaning zipcode column, extracting zip code\n",
        "  X[\"zipcode\"] = X[\"zipcode\"].replace(\"Near 91304\", 91304)\n",
        "  X[\"zipcode\"] = X[\"zipcode\"].replace(\"1m\", 10023)\n",
        "  X[\"zipcode\"] = pd.to_numeric(X[\"zipcode\"], errors=\"coerce\")\n",
        "  X[\"zipcode\"] = X[\"zipcode\"].replace(np.nan, X[\"zipcode\"].median())\n",
        "  X[\"zipcode\"] = X[\"zipcode\"].astype(str)\n",
        "  X[\"zipcode\"] = X[\"zipcode\"].apply(extract_zipcode)\n",
        "  X[\"zipcode\"] = X[\"zipcode\"].replace(\".\", \"\")  \n",
        "  X[\"zipcode\"] = X[\"zipcode\"].astype(float)\n",
        "\n",
        "  # Replacing NaN values with median\n",
        "  X[\"bathrooms\"] = X[\"bathrooms\"].replace(np.nan, X[\"bathrooms\"].median())\n",
        "  X[\"bedrooms\"] = X[\"bedrooms\"].replace(np.nan, X[\"bedrooms\"].median())\n",
        "  X[\"beds\"] = X[\"beds\"].replace(np.nan, X[\"beds\"].median())\n",
        "\n",
        "  # Encoding categorical variables\n",
        "  encoder = ce.OrdinalEncoder()\n",
        "  X = encoder.fit_transform(X)\n",
        "\n",
        "  # Converting data to integers for seamless entry into neural network\n",
        "  X = X.astype(float)\n",
        "\n",
        "  return X"
      ],
      "execution_count": 19,
      "outputs": []
    },
    {
      "cell_type": "code",
      "metadata": {
        "id": "1e30K3smFIP8",
        "colab_type": "code",
        "colab": {}
      },
      "source": [
        "# Applying wrangle function\n",
        "\n",
        "df = wrangle(df)"
      ],
      "execution_count": 20,
      "outputs": []
    },
    {
      "cell_type": "code",
      "metadata": {
        "id": "eJA8KLnZFAOr",
        "colab_type": "code",
        "colab": {}
      },
      "source": [
        "# Splitting data set into training and test sets\n",
        "\n",
        "train, test = train_test_split(df, test_size=0.2, random_state=7)"
      ],
      "execution_count": 21,
      "outputs": []
    },
    {
      "cell_type": "code",
      "metadata": {
        "id": "MdoWKNiBH1eN",
        "colab_type": "code",
        "colab": {}
      },
      "source": [
        "# Splitting train and test sets into X feature matrix and y target vector\n",
        "\n",
        "target = \"log_price\"\n",
        "\n",
        "X_train = train.drop(columns=target)\n",
        "y_train = train[target]\n",
        "\n",
        "X_test = test.drop(columns=target)\n",
        "y_test = test[target]"
      ],
      "execution_count": 22,
      "outputs": []
    },
    {
      "cell_type": "code",
      "metadata": {
        "id": "oI9bjra7zlRR",
        "colab_type": "code",
        "colab": {
          "base_uri": "https://localhost:8080/",
          "height": 50
        },
        "outputId": "081ac1a4-7ec2-4323-d350-83d20385ce5a"
      },
      "source": [
        "# Finding mean baseline for df \n",
        "\n",
        "baseline = df[target].mean()\n",
        "print(f'Baseline Mean: {baseline:.2f} log_price')\n",
        "\n",
        "# Find baseline MSE\n",
        "\n",
        "y_train = df[target].dropna()\n",
        "y_pred = [baseline] * len(y_train)\n",
        "mse = mean_squared_error(y_train, y_pred)\n",
        "print(f'Baseline Mean Squared Error: {mse:.2f} log_price')"
      ],
      "execution_count": 23,
      "outputs": [
        {
          "output_type": "stream",
          "text": [
            "Baseline Mean: 4.78 log_price\n",
            "Baseline Mean Squared Error: 0.51 log_price\n"
          ],
          "name": "stdout"
        }
      ]
    },
    {
      "cell_type": "code",
      "metadata": {
        "id": "k2WRsKN0QI5R",
        "colab_type": "code",
        "colab": {
          "base_uri": "https://localhost:8080/",
          "height": 34
        },
        "outputId": "f175ccc9-27af-45de-c893-18c2e5a87319"
      },
      "source": [
        "y_train = train[target]\n",
        "\n",
        "pipeline = make_pipeline(RandomForestRegressor(n_estimators=300,\n",
        "                      max_features=9,\n",
        "                      min_samples_leaf=4,\n",
        "                      max_depth=26, \n",
        "                      n_jobs=-1, \n",
        "                      random_state=7)  \n",
        ")\n",
        "\n",
        "k = 3\n",
        "scores = cross_val_score(pipeline, X_train, y_train, cv=k, \n",
        "                         scoring='neg_mean_squared_error')\n",
        "print(f'MAE for {k} folds:', -scores)"
      ],
      "execution_count": 24,
      "outputs": [
        {
          "output_type": "stream",
          "text": [
            "MAE for 3 folds: [0.17699664 0.18092373 0.1785249 ]\n"
          ],
          "name": "stdout"
        }
      ]
    },
    {
      "cell_type": "code",
      "metadata": {
        "id": "YLLSi03XSUSs",
        "colab_type": "code",
        "colab": {
          "base_uri": "https://localhost:8080/",
          "height": 134
        },
        "outputId": "52c8aa72-b18b-41b3-dd07-b3b66ccb954b"
      },
      "source": [
        "model = RandomForestRegressor(n_estimators=300,\n",
        "                              max_features=9,\n",
        "                              min_samples_leaf=4,\n",
        "                              max_depth=26, \n",
        "                              n_jobs=-1, \n",
        "                              random_state=7)  \n",
        "\n",
        "model.fit(X_train, y_train)"
      ],
      "execution_count": 25,
      "outputs": [
        {
          "output_type": "execute_result",
          "data": {
            "text/plain": [
              "RandomForestRegressor(bootstrap=True, ccp_alpha=0.0, criterion='mse',\n",
              "                      max_depth=26, max_features=9, max_leaf_nodes=None,\n",
              "                      max_samples=None, min_impurity_decrease=0.0,\n",
              "                      min_impurity_split=None, min_samples_leaf=4,\n",
              "                      min_samples_split=2, min_weight_fraction_leaf=0.0,\n",
              "                      n_estimators=300, n_jobs=-1, oob_score=False,\n",
              "                      random_state=7, verbose=0, warm_start=False)"
            ]
          },
          "metadata": {
            "tags": []
          },
          "execution_count": 25
        }
      ]
    },
    {
      "cell_type": "code",
      "metadata": {
        "id": "Dc7cfR5qTnqv",
        "colab_type": "code",
        "colab": {}
      },
      "source": [
        "y_pred = model.predict(X_test)"
      ],
      "execution_count": 26,
      "outputs": []
    },
    {
      "cell_type": "code",
      "metadata": {
        "id": "59lryp6JTu05",
        "colab_type": "code",
        "colab": {
          "base_uri": "https://localhost:8080/",
          "height": 34
        },
        "outputId": "8d083dae-ab61-45af-fff0-c2700b6cf95b"
      },
      "source": [
        "print('Mean Squared Error:', metrics.mean_squared_error(y_test, y_pred))  "
      ],
      "execution_count": 27,
      "outputs": [
        {
          "output_type": "stream",
          "text": [
            "Mean Squared Error: 0.17059707337592653\n"
          ],
          "name": "stdout"
        }
      ]
    },
    {
      "cell_type": "code",
      "metadata": {
        "id": "-Hi0AYrYYbq9",
        "colab_type": "code",
        "colab": {}
      },
      "source": [
        "def compressed_pickle(title, data):\n",
        " with bz2.BZ2File(title + '.pbz2', 'w') as f: \n",
        "    cPickle.dump(data, f)"
      ],
      "execution_count": 28,
      "outputs": []
    },
    {
      "cell_type": "code",
      "metadata": {
        "id": "QZEappZwYeDj",
        "colab_type": "code",
        "colab": {}
      },
      "source": [
        "compressed_pickle('rf_model', model) "
      ],
      "execution_count": 29,
      "outputs": []
    },
    {
      "cell_type": "code",
      "metadata": {
        "id": "0V5qrLMCY1KP",
        "colab_type": "code",
        "colab": {}
      },
      "source": [
        "def decompress_pickle(file):\n",
        " data = bz2.BZ2File(file, 'rb')\n",
        " data = cPickle.load(data)\n",
        " return data"
      ],
      "execution_count": 30,
      "outputs": []
    },
    {
      "cell_type": "code",
      "metadata": {
        "id": "_ESd_oaYY46v",
        "colab_type": "code",
        "colab": {}
      },
      "source": [
        "data = decompress_pickle('rf_model.pbz2') "
      ],
      "execution_count": 31,
      "outputs": []
    },
    {
      "cell_type": "code",
      "metadata": {
        "id": "2OfsCQ-7Y_9N",
        "colab_type": "code",
        "colab": {}
      },
      "source": [
        "a = [[1,2,3,4,5,6,7,8,9,10,11]]"
      ],
      "execution_count": 32,
      "outputs": []
    },
    {
      "cell_type": "code",
      "metadata": {
        "id": "7LlOVrB7Y_Do",
        "colab_type": "code",
        "colab": {
          "base_uri": "https://localhost:8080/",
          "height": 34
        },
        "outputId": "0ad55618-f3f9-492c-986e-ad46d579c27d"
      },
      "source": [
        "data.predict(a)"
      ],
      "execution_count": 33,
      "outputs": [
        {
          "output_type": "execute_result",
          "data": {
            "text/plain": [
              "array([4.9845085])"
            ]
          },
          "metadata": {
            "tags": []
          },
          "execution_count": 33
        }
      ]
    },
    {
      "cell_type": "code",
      "metadata": {
        "id": "R7bPs13bar2L",
        "colab_type": "code",
        "colab": {}
      },
      "source": [
        "def predict_price(X):\n",
        "  \"\"\"\n",
        "  Uses model to predict price based on inputted features\n",
        "  \"\"\"\n",
        "  return np.exp(model.predict(X))"
      ],
      "execution_count": 36,
      "outputs": []
    },
    {
      "cell_type": "code",
      "metadata": {
        "id": "irb7U_SNbMZl",
        "colab_type": "code",
        "colab": {
          "base_uri": "https://localhost:8080/",
          "height": 34
        },
        "outputId": "6a740953-f919-4dbd-c691-57179f68519e"
      },
      "source": [
        "predict_price(a)"
      ],
      "execution_count": 37,
      "outputs": [
        {
          "output_type": "execute_result",
          "data": {
            "text/plain": [
              "array([146.13173402])"
            ]
          },
          "metadata": {
            "tags": []
          },
          "execution_count": 37
        }
      ]
    },
    {
      "cell_type": "code",
      "metadata": {
        "id": "9nvSiD7EbORk",
        "colab_type": "code",
        "colab": {}
      },
      "source": [
        ""
      ],
      "execution_count": null,
      "outputs": []
    }
  ]
}